{
 "cells": [
  {
   "cell_type": "markdown",
   "metadata": {},
   "source": [
    "# Feature selection with feature importances\n"
   ]
  },
  {
   "cell_type": "code",
   "execution_count": 3,
   "metadata": {},
   "outputs": [],
   "source": [
    "%matplotlib inline\n",
    "\n",
    "import pandas as pd\n",
    "import numpy as np\n",
    "import seaborn as sns\n",
    "import matplotlib.pyplot as plt\n",
    "from sklearn.tree import DecisionTreeClassifier\n",
    "from sklearn.feature_selection import RFE\n",
    "from sklearn.ensemble import ExtraTreesClassifier\n",
    "from sklearn.feature_selection import SelectFromModel\n",
    "from sklearn.ensemble import RandomForestClassifier\n",
    "from sklearn.preprocessing import MinMaxScaler\n",
    "from scripts.tracks import get_tracks\n",
    "from sklearn.preprocessing import label_binarize\n",
    "from sklearn.metrics import roc_curve, auc\n",
    "from scripts.ROC import get_ROC, plot_ROC_curve\n",
    "from sklearn.model_selection import train_test_split\n",
    "from sklearn.metrics import roc_auc_score\n",
    "\n",
    "pd.set_option('display.max_columns', None)"
   ]
  },
  {
   "cell_type": "markdown",
   "metadata": {},
   "source": [
    "#### Unpickle FE dataframe"
   ]
  },
  {
   "cell_type": "code",
   "execution_count": 4,
   "metadata": {},
   "outputs": [
    {
     "data": {
      "text/plain": [
       "(120939, 46)"
      ]
     },
     "execution_count": 4,
     "metadata": {},
     "output_type": "execute_result"
    }
   ],
   "source": [
    "event_id = 'event000001000'\n",
    "data = pd.read_pickle('/home/alepfu/Desktop/dataset/pickle/' + event_id + '_FE.pkl')\n",
    "data.shape"
   ]
  },
  {
   "cell_type": "markdown",
   "metadata": {},
   "source": [
    "#### Pick a sample of tracks"
   ]
  },
  {
   "cell_type": "code",
   "execution_count": 5,
   "metadata": {},
   "outputs": [
    {
     "name": "stdout",
     "output_type": "stream",
     "text": [
      "(9708, 46)\n"
     ]
    }
   ],
   "source": [
    "N_tracks = 1000\n",
    "data = get_tracks(data, N_tracks=N_tracks, drop_zero_weights=False, drop_zero_id=False, factorize_particle_id=False)\n",
    "print(data.shape)"
   ]
  },
  {
   "cell_type": "markdown",
   "metadata": {},
   "source": [
    "#### Set features for use in feature selection\n",
    "We can only make use of information from the hit level and the engineered features."
   ]
  },
  {
   "cell_type": "code",
   "execution_count": 6,
   "metadata": {},
   "outputs": [
    {
     "name": "stdout",
     "output_type": "stream",
     "text": [
      "(9708, 39)\n"
     ]
    }
   ],
   "source": [
    "data = data[['hit_id','particle_id','x','y','z','volume_id','layer_id','module_id',\n",
    "             'x_scaled','y_scaled','z_scaled','r_cyl','theta','theta_atan2','r_sph','phi','phi_atan2',\n",
    "             'x_r_cyl','y_r_cyl','z_r_cyl','x_r_sph','y_r_sph','z_r_sph',\n",
    "             'n_pixel','signal_pixel','phi_pixel','theta_pixel','path_pixel','u_pixel','v_pixel',\n",
    "             'vol_inner','vol_short','vol_long','vol_lay_mul','vol_lay_add','vol_lay_concat',\n",
    "             'z_dir','cos_dist_rc','cos_dist_lc']]\n",
    "\n",
    "print(data.shape)"
   ]
  },
  {
   "cell_type": "markdown",
   "metadata": {},
   "source": [
    "## Feature importances from tree-based methods\n",
    "\n",
    "We investigate the [importances of features](https://www.stat.berkeley.edu/~breiman/RandomForests/cc_home.htm#giniimp) and derive a ranking based on the mean importance from different kinds of tree-based methods.\n",
    "\n",
    "### Fit trees and plot performance scores\n",
    "\n"
   ]
  },
  {
   "cell_type": "code",
   "execution_count": 7,
   "metadata": {},
   "outputs": [
    {
     "name": "stdout",
     "output_type": "stream",
     "text": [
      "CPU times: user 1.28 s, sys: 2.23 s, total: 3.5 s\n",
      "Wall time: 1min 29s\n"
     ]
    }
   ],
   "source": [
    "%%time\n",
    "\n",
    "import multiprocessing as mp\n",
    "\n",
    "def dec_tree_worker(X_train, X_test, y_train, y_test, ret_dict):\n",
    "    dec_tree = DecisionTreeClassifier(random_state=0)\n",
    "    dec_tree.fit(X_train, y_train)\n",
    "    dec_tree_score = dec_tree.score(X_test, y_test)\n",
    "    dec_tree_preds = dec_tree.predict(X_test)\n",
    "    dec_tree_auc = roc_auc_score(y_test, dec_tree_preds, average='micro')\n",
    "    ret_dict['dec_tree'] = (dec_tree, dec_tree_score, dec_tree_auc)\n",
    "\n",
    "def ex_tree_worker(X_train, X_test, y_train, y_test, ret_dict):\n",
    "    ex_tree = ExtraTreesClassifier(random_state=0)\n",
    "    ex_tree.fit(X_train, y_train)\n",
    "    ex_tree_score = ex_tree.score(X_test, y_test)\n",
    "    ex_tree_preds = ex_tree.predict(X_test)\n",
    "    ex_tree_auc = roc_auc_score(y_test, ex_tree_preds, average='micro')\n",
    "    ret_dict['ex_tree'] = (ex_tree, ex_tree_score, ex_tree_auc)\n",
    "\n",
    "def forest_worker(X_train, X_test, y_train, y_test, ret_dict):\n",
    "    forest = RandomForestClassifier(random_state=0)\n",
    "    forest.fit(X_train, y_train)\n",
    "    forest_score = forest.score(X_test, y_test)\n",
    "    forest_preds = forest.predict(X_test)\n",
    "    forest_auc = roc_auc_score(y_test, forest_preds, average='micro')\n",
    "    ret_dict['forest'] = (forest, forest_score, forest_auc)\n",
    "\n",
    "\n",
    "X = data.loc[:, data.columns != 'particle_id']\n",
    "y = data[['particle_id']].values.ravel()\n",
    "y = label_binarize(y, classes=list(np.unique(y)))\n",
    "\n",
    "X_train, X_test, y_train, y_test = train_test_split(X, y, test_size=0.2, random_state=0)\n",
    "\n",
    "manager = mp.Manager()\n",
    "ret_dict = manager.dict()\n",
    "procs = []\n",
    "for worker in [dec_tree_worker, ex_tree_worker, forest_worker]:\n",
    "    proc = mp.Process(target=worker, args=(X_train, X_test, y_train, y_test, ret_dict,))\n",
    "    procs.append(proc)\n",
    "    proc.start()\n",
    "for proc in procs:\n",
    "    proc.join()\n",
    "\n",
    "dec_tree, dec_tree_score, dec_tree_auc = ret_dict['dec_tree']\n",
    "ex_tree, ex_tree_score, ex_tree_auc = ret_dict['ex_tree']\n",
    "forest, forest_score, forest_auc = ret_dict['forest']"
   ]
  },
  {
   "cell_type": "code",
   "execution_count": 8,
   "metadata": {},
   "outputs": [
    {
     "data": {
      "image/png": "[encoded data removed]",
      "text/plain": [
       "<matplotlib.figure.Figure at 0x7fb9a466d7f0>"
      ]
     },
     "metadata": {},
     "output_type": "display_data"
    }
   ],
   "source": [
    "plt.figure(figsize=(10,5))\n",
    "plt.subplot(121)\n",
    "ax = sns.barplot(x=['Decision Tree', 'Extra Trees', 'Random Forest'], y=[dec_tree_score, ex_tree_score, forest_score])\n",
    "ax.set_title('Tree scores')\n",
    "ax.set_ylabel('Mean accuracy')\n",
    "ax.set_ylim(0,1)\n",
    "plt.subplot(122)\n",
    "ax = sns.barplot(x=['Decision Tree', 'Extra Trees', 'Random Forest'], y=[dec_tree_auc, ex_tree_auc, forest_auc])\n",
    "ax.set_title('Tree ROC AUC scores')\n",
    "ax.set_ylabel('AUC')\n",
    "ax.set_ylim(0,1);"
   ]
  },
  {
   "cell_type": "markdown",
   "metadata": {},
   "source": [
    "### Rank features via mean feature importance"
   ]
  },
  {
   "cell_type": "code",
   "execution_count": 9,
   "metadata": {},
   "outputs": [
    {
     "data": {
      "image/png": "[encoded data removed]",
      "text/plain": [
       "<matplotlib.figure.Figure at 0x7fb9668161d0>"
      ]
     },
     "metadata": {},
     "output_type": "display_data"
    }
   ],
   "source": [
    "mm_scaler = MinMaxScaler(feature_range=(0, 100))\n",
    "\n",
    "dec_tree_imps_scaled = mm_scaler.fit_transform(dec_tree.feature_importances_.reshape(-1, 1))\n",
    "dec_tree_imps_scaled = dec_tree_imps_scaled.reshape(1,-1).ravel()\n",
    "ex_tree_imps_scaled = mm_scaler.fit_transform(ex_tree.feature_importances_.reshape(-1, 1))\n",
    "ex_tree_imps_scaled = ex_tree_imps_scaled.reshape(1,-1).ravel()\n",
    "forest_imps_scaled = mm_scaler.fit_transform(forest.feature_importances_.reshape(-1, 1))\n",
    "forest_imps_scaled = forest_imps_scaled.reshape(1,-1).ravel()\n",
    "\n",
    "feature_importances = pd.DataFrame(np.stack((X.columns.values,  \n",
    "                                             dec_tree_imps_scaled, \n",
    "                                             ex_tree_imps_scaled,\n",
    "                                             forest_imps_scaled), axis=1),  \n",
    "                                   columns=['feature','dec','ex','for'])\n",
    "\n",
    "feature_importances['mean'] = feature_importances[['dec','ex','for']].mean(axis=1)\n",
    "feature_importances = feature_importances.sort_values('mean', ascending=False)\n",
    "\n",
    "plt.figure(figsize=(10,10))\n",
    "ax = sns.barplot(x='mean', y='feature', data=feature_importances, color='#3498db');\n",
    "ax.set_title('Mean feature importances', fontsize=20);\n",
    "ax.set_xlabel('Mean importance', fontsize=15);\n",
    "ax.set_ylabel('Feature',fontsize=15);"
   ]
  },
  {
   "cell_type": "markdown",
   "metadata": {},
   "source": [
    "#### Pickle feature importances"
   ]
  },
  {
   "cell_type": "code",
   "execution_count": 10,
   "metadata": {},
   "outputs": [
    {
     "name": "stdout",
     "output_type": "stream",
     "text": [
      "done.\n"
     ]
    }
   ],
   "source": [
    "feature_importances.to_pickle('/home/alepfu/Desktop/dataset/pickle/feature_importances.pkl')\n",
    "print('done.')"
   ]
  }
 ],
 "metadata": {
  "kernelspec": {
   "display_name": "Python 3",
   "language": "python",
   "name": "python3"
  },
  "language_info": {
   "codemirror_mode": {
    "name": "ipython",
    "version": 3
   },
   "file_extension": ".py",
   "mimetype": "text/x-python",
   "name": "python",
   "nbconvert_exporter": "python",
   "pygments_lexer": "ipython3",
   "version": "3.6.4"
  }
 },
 "nbformat": 4,
 "nbformat_minor": 2
}
