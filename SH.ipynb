{
 "cells": [
  {
   "cell_type": "code",
   "execution_count": 1,
   "metadata": {},
   "outputs": [],
   "source": [
    "%matplotlib inline\n",
    "\n",
    "import pandas as pd\n",
    "import numpy as np\n",
    "from trackml.dataset import load_event\n",
    "import seaborn as sns\n",
    "import matplotlib.pyplot as plt\n",
    "\n",
    "from scripts.tracks import get_tracks\n",
    "from scripts.sh import train, evaluate\n",
    "\n",
    "sns.set_style('whitegrid')\n",
    "pd.set_option('display.max_columns', None)"
   ]
  },
  {
   "cell_type": "code",
   "execution_count": 2,
   "metadata": {},
   "outputs": [],
   "source": [
    "path2data = '/home/alepfu/Desktop/dataset/train_100_events/'\n",
    "event_id = 'event000001000'\n",
    "hits, cells, particles, truth = load_event(path2data + event_id)\n",
    "\n",
    "full_merge = pd.merge(pd.merge(truth, pd.DataFrame(hits), on=['hit_id']), pd.DataFrame(particles), on=['particle_id'])\n",
    "hits = full_merge.copy()"
   ]
  },
  {
   "cell_type": "code",
   "execution_count": 3,
   "metadata": {},
   "outputs": [],
   "source": [
    "N_tracks = 0\n",
    "hits = get_tracks(hits, N_tracks=N_tracks, include_zero_weights=False, include_zero_ID=False)"
   ]
  },
  {
   "cell_type": "code",
   "execution_count": 52,
   "metadata": {},
   "outputs": [
    {
     "data": {
      "text/html": [
       "<div>\n",
       "<style scoped>\n",
       "    .dataframe tbody tr th:only-of-type {\n",
       "        vertical-align: middle;\n",
       "    }\n",
       "\n",
       "    .dataframe tbody tr th {\n",
       "        vertical-align: top;\n",
       "    }\n",
       "\n",
       "    .dataframe thead th {\n",
       "        text-align: right;\n",
       "    }\n",
       "</style>\n",
       "<table border=\"1\" class=\"dataframe\">\n",
       "  <thead>\n",
       "    <tr style=\"text-align: right;\">\n",
       "      <th></th>\n",
       "      <th>hit_id</th>\n",
       "      <th>x</th>\n",
       "      <th>y</th>\n",
       "      <th>z</th>\n",
       "      <th>volume_id</th>\n",
       "      <th>layer_id</th>\n",
       "    </tr>\n",
       "  </thead>\n",
       "  <tbody>\n",
       "    <tr>\n",
       "      <th>55741</th>\n",
       "      <td>22300</td>\n",
       "      <td>26.501801</td>\n",
       "      <td>-17.426399</td>\n",
       "      <td>10.971100</td>\n",
       "      <td>8</td>\n",
       "      <td>2</td>\n",
       "    </tr>\n",
       "    <tr>\n",
       "      <th>55742</th>\n",
       "      <td>30035</td>\n",
       "      <td>61.852699</td>\n",
       "      <td>-37.716499</td>\n",
       "      <td>18.223499</td>\n",
       "      <td>8</td>\n",
       "      <td>4</td>\n",
       "    </tr>\n",
       "    <tr>\n",
       "      <th>55743</th>\n",
       "      <td>36935</td>\n",
       "      <td>100.469002</td>\n",
       "      <td>-56.576599</td>\n",
       "      <td>25.776501</td>\n",
       "      <td>8</td>\n",
       "      <td>6</td>\n",
       "    </tr>\n",
       "    <tr>\n",
       "      <th>55744</th>\n",
       "      <td>43293</td>\n",
       "      <td>153.919006</td>\n",
       "      <td>-77.621498</td>\n",
       "      <td>35.670200</td>\n",
       "      <td>8</td>\n",
       "      <td>8</td>\n",
       "    </tr>\n",
       "    <tr>\n",
       "      <th>55746</th>\n",
       "      <td>75296</td>\n",
       "      <td>238.207993</td>\n",
       "      <td>-99.942802</td>\n",
       "      <td>50.799999</td>\n",
       "      <td>13</td>\n",
       "      <td>2</td>\n",
       "    </tr>\n",
       "    <tr>\n",
       "      <th>55745</th>\n",
       "      <td>74685</td>\n",
       "      <td>241.330994</td>\n",
       "      <td>-100.509003</td>\n",
       "      <td>51.000000</td>\n",
       "      <td>13</td>\n",
       "      <td>2</td>\n",
       "    </tr>\n",
       "    <tr>\n",
       "      <th>55747</th>\n",
       "      <td>82193</td>\n",
       "      <td>339.393005</td>\n",
       "      <td>-110.342003</td>\n",
       "      <td>67.900002</td>\n",
       "      <td>13</td>\n",
       "      <td>4</td>\n",
       "    </tr>\n",
       "    <tr>\n",
       "      <th>55748</th>\n",
       "      <td>88713</td>\n",
       "      <td>490.631989</td>\n",
       "      <td>-93.694603</td>\n",
       "      <td>94.000000</td>\n",
       "      <td>13</td>\n",
       "      <td>6</td>\n",
       "    </tr>\n",
       "    <tr>\n",
       "      <th>55749</th>\n",
       "      <td>94648</td>\n",
       "      <td>657.117981</td>\n",
       "      <td>-26.131701</td>\n",
       "      <td>125.199997</td>\n",
       "      <td>13</td>\n",
       "      <td>8</td>\n",
       "    </tr>\n",
       "    <tr>\n",
       "      <th>55750</th>\n",
       "      <td>110874</td>\n",
       "      <td>814.510010</td>\n",
       "      <td>109.238998</td>\n",
       "      <td>168.199997</td>\n",
       "      <td>17</td>\n",
       "      <td>2</td>\n",
       "    </tr>\n",
       "    <tr>\n",
       "      <th>55751</th>\n",
       "      <td>115974</td>\n",
       "      <td>941.976013</td>\n",
       "      <td>398.048004</td>\n",
       "      <td>222.199997</td>\n",
       "      <td>17</td>\n",
       "      <td>4</td>\n",
       "    </tr>\n",
       "  </tbody>\n",
       "</table>\n",
       "</div>"
      ],
      "text/plain": [
       "       hit_id           x           y           z  volume_id  layer_id\n",
       "55741   22300   26.501801  -17.426399   10.971100          8         2\n",
       "55742   30035   61.852699  -37.716499   18.223499          8         4\n",
       "55743   36935  100.469002  -56.576599   25.776501          8         6\n",
       "55744   43293  153.919006  -77.621498   35.670200          8         8\n",
       "55746   75296  238.207993  -99.942802   50.799999         13         2\n",
       "55745   74685  241.330994 -100.509003   51.000000         13         2\n",
       "55747   82193  339.393005 -110.342003   67.900002         13         4\n",
       "55748   88713  490.631989  -93.694603   94.000000         13         6\n",
       "55749   94648  657.117981  -26.131701  125.199997         13         8\n",
       "55750  110874  814.510010  109.238998  168.199997         17         2\n",
       "55751  115974  941.976013  398.048004  222.199997         17         4"
      ]
     },
     "execution_count": 52,
     "metadata": {},
     "output_type": "execute_result"
    }
   ],
   "source": [
    "single_track = hits.loc[hits['particle_id'] == 238697583478833152]\n",
    "single_track = single_track[['hit_id','x','y','z','volume_id','layer_id']]\n",
    "single_track.sort_values('z', inplace=True)\n",
    "single_track"
   ]
  },
  {
   "cell_type": "markdown",
   "metadata": {},
   "source": [
    "### Train the hashing model and evaluate all possible hits"
   ]
  },
  {
   "cell_type": "code",
   "execution_count": 89,
   "metadata": {},
   "outputs": [
    {
     "name": "stdout",
     "output_type": "stream",
     "text": [
      "dist to next hit: [[0.1015625]]\n",
      "found hits: 373\n"
     ]
    }
   ],
   "source": [
    "from scipy.spatial.distance import cdist\n",
    "\n",
    "first_hit = single_track.iloc[0]\n",
    "next_hit = single_track.iloc[1]\n",
    "volume_id = first_hit['volume_id']\n",
    "layer_id = first_hit['layer_id']\n",
    "\n",
    "possible_hits = hits.loc[(hits['volume_id'] == volume_id) & (hits['layer_id'] == layer_id + 2)]\n",
    "\n",
    "n_bit = 128\n",
    "model = train(hits[['x','y','z']].values, n_bit)\n",
    "\n",
    "codes_base = evaluate(possible_hits[['x','y','z']].values, model, compact=False)\n",
    "codes_query = evaluate(np.array([first_hit[['x','y','z']].values]), model, compact=False)\n",
    "codes_next_hit = evaluate(np.array([next_hit[['x','y','z']].values]), model, compact=False)\n",
    "\n",
    "distances = cdist(codes_base, codes_query, 'hamming')\n",
    "distances = distances.ravel()\n",
    "\n",
    "print('dist to next hit:', cdist(codes_next_hit, codes_query, 'hamming'))\n",
    "print('found hits:', possible_hits.iloc[distances < 0.2].shape[0])\n",
    "\n"
   ]
  },
  {
   "cell_type": "code",
   "execution_count": null,
   "metadata": {},
   "outputs": [],
   "source": []
  },
  {
   "cell_type": "code",
   "execution_count": null,
   "metadata": {},
   "outputs": [],
   "source": []
  },
  {
   "cell_type": "code",
   "execution_count": null,
   "metadata": {},
   "outputs": [],
   "source": []
  },
  {
   "cell_type": "code",
   "execution_count": null,
   "metadata": {},
   "outputs": [],
   "source": []
  },
  {
   "cell_type": "code",
   "execution_count": null,
   "metadata": {},
   "outputs": [],
   "source": []
  },
  {
   "cell_type": "code",
   "execution_count": null,
   "metadata": {},
   "outputs": [],
   "source": []
  },
  {
   "cell_type": "code",
   "execution_count": null,
   "metadata": {},
   "outputs": [],
   "source": []
  },
  {
   "cell_type": "code",
   "execution_count": null,
   "metadata": {},
   "outputs": [],
   "source": []
  },
  {
   "cell_type": "code",
   "execution_count": null,
   "metadata": {},
   "outputs": [],
   "source": []
  },
  {
   "cell_type": "code",
   "execution_count": null,
   "metadata": {},
   "outputs": [],
   "source": []
  },
  {
   "cell_type": "code",
   "execution_count": null,
   "metadata": {},
   "outputs": [],
   "source": []
  },
  {
   "cell_type": "raw",
   "metadata": {},
   "source": []
  },
  {
   "cell_type": "raw",
   "metadata": {},
   "source": []
  }
 ],
 "metadata": {
  "kernelspec": {
   "display_name": "Python 3",
   "language": "python",
   "name": "python3"
  },
  "language_info": {
   "codemirror_mode": {
    "name": "ipython",
    "version": 3
   },
   "file_extension": ".py",
   "mimetype": "text/x-python",
   "name": "python",
   "nbconvert_exporter": "python",
   "pygments_lexer": "ipython3",
   "version": "3.6.4"
  }
 },
 "nbformat": 4,
 "nbformat_minor": 2
}
