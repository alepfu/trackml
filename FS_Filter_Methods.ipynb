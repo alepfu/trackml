{
 "cells": [
  {
   "cell_type": "markdown",
   "metadata": {},
   "source": [
    "# Feature selection with filter methods\n"
   ]
  },
  {
   "cell_type": "code",
   "execution_count": 1,
   "metadata": {},
   "outputs": [],
   "source": [
    "%matplotlib inline\n",
    "\n",
    "import pandas as pd\n",
    "import numpy as np\n",
    "import seaborn as sns\n",
    "import matplotlib.pyplot as plt\n",
    "from sklearn.feature_selection import mutual_info_classif\n",
    "from sklearn.feature_selection import SelectKBest\n",
    "from sklearn.feature_selection import f_classif\n",
    "from scripts.tracks import get_tracks\n",
    "\n",
    "pd.set_option('display.max_columns', None)"
   ]
  },
  {
   "cell_type": "markdown",
   "metadata": {},
   "source": [
    "#### Unpickle FE dataframe"
   ]
  },
  {
   "cell_type": "code",
   "execution_count": 2,
   "metadata": {},
   "outputs": [
    {
     "data": {
      "text/plain": [
       "(103305, 54)"
      ]
     },
     "execution_count": 2,
     "metadata": {},
     "output_type": "execute_result"
    }
   ],
   "source": [
    "data = pd.read_pickle('/home/alepfu/Desktop/dataset/pickle/event000001000_FE.pkl')\n",
    "data.shape"
   ]
  },
  {
   "cell_type": "markdown",
   "metadata": {},
   "source": [
    "#### Pick a sample of tracks"
   ]
  },
  {
   "cell_type": "code",
   "execution_count": 3,
   "metadata": {},
   "outputs": [
    {
     "name": "stdout",
     "output_type": "stream",
     "text": [
      "(4803, 54)\n"
     ]
    }
   ],
   "source": [
    "N_tracks = 500\n",
    "data = get_tracks(data, N_tracks=N_tracks, drop_zero_weights=False, drop_zero_id=False, factorize_particle_id=False)\n",
    "print(data.shape)"
   ]
  },
  {
   "cell_type": "markdown",
   "metadata": {},
   "source": [
    "#### Set features for use in feature selection\n",
    "We can only make use of information from the hit level and the engineered features."
   ]
  },
  {
   "cell_type": "code",
   "execution_count": 4,
   "metadata": {},
   "outputs": [
    {
     "name": "stdout",
     "output_type": "stream",
     "text": [
      "(4803, 39)\n"
     ]
    }
   ],
   "source": [
    "data = data[['hit_id','particle_id','x','y','z','volume_id','layer_id','module_id',\n",
    "             'x_scaled','y_scaled','z_scaled','r_cyl','theta','theta_atan2','r_sph','phi','phi_atan2',\n",
    "             'x_r_cyl','y_r_cyl','z_r_cyl','x_r_sph','y_r_sph','z_r_sph',\n",
    "             'n_pixel','signal_pixel','phi_pixel','theta_pixel','path_pixel','u_pixel','v_pixel',\n",
    "             'vol_inner','vol_short','vol_long','vol_lay_mul','vol_lay_add','vol_lay_concat',\n",
    "             'z_dir','cos_dist_rc','cos_dist_lc']]\n",
    "\n",
    "print(data.shape)"
   ]
  },
  {
   "cell_type": "markdown",
   "metadata": {},
   "source": [
    "## Filter Methods\n",
    "\n",
    "Filter methods apply statistical measures for scoring each feature. The methods are usually univariate and look at the features independently, approaches include:\n",
    "\n",
    "* Pearson correlation\n",
    "* Chi^2 \n",
    "* Mutual Information\n",
    "* F-test statistics\n",
    "\n",
    "Since Chi^2 needs positive input values, we skip it. A comparison of F-test and MI approaches can be found [here](http://scikit-learn.org/stable/auto_examples/feature_selection/plot_f_test_vs_mi.html#sphx-glr-auto-examples-feature-selection-plot-f-test-vs-mi-py).\n",
    "\n",
    "### Pearson Correlation\n",
    "We start with simpliy calculating the correlation of each feature with the particle ID, then investigate high and low scoring features."
   ]
  },
  {
   "cell_type": "code",
   "execution_count": 5,
   "metadata": {},
   "outputs": [
    {
     "data": {
      "text/plain": [
       "z_r_cyl        0.821680\n",
       "z_r_sph        0.806684\n",
       "cos_dist_lc    0.806684\n",
       "phi_atan2      0.795641\n",
       "z_dir          0.731448\n",
       "z_scaled       0.693711\n",
       "z              0.693711\n",
       "Name: particle_id, dtype: float64"
      ]
     },
     "execution_count": 5,
     "metadata": {},
     "output_type": "execute_result"
    }
   ],
   "source": [
    "corr = data.corr()\n",
    "corr = corr['particle_id']\n",
    "corr.sort_values(ascending=False)[1:8]"
   ]
  },
  {
   "cell_type": "code",
   "execution_count": 6,
   "metadata": {},
   "outputs": [
    {
     "data": {
      "text/plain": [
       "phi           -0.837393\n",
       "cos_dist_rc   -0.806684\n",
       "vol_inner     -0.104779\n",
       "layer_id      -0.099327\n",
       "r_sph         -0.017183\n",
       "n_pixel       -0.008271\n",
       "theta         -0.000660\n",
       "Name: particle_id, dtype: float64"
      ]
     },
     "execution_count": 6,
     "metadata": {},
     "output_type": "execute_result"
    }
   ],
   "source": [
    "corr.sort_values(ascending=True)[:7]"
   ]
  },
  {
   "cell_type": "markdown",
   "metadata": {},
   "source": [
    "### Mutual Information\n",
    "Mutual information measures the information that X and Y share. It measures how much knowing one of these variables reduces uncertainty about the other. Mutual information methods can capture any kind of statistical dependency, but being nonparametric, they require more samples for accurate estimation."
   ]
  },
  {
   "cell_type": "code",
   "execution_count": 7,
   "metadata": {},
   "outputs": [
    {
     "name": "stdout",
     "output_type": "stream",
     "text": [
      "CPU times: user 13.4 s, sys: 24 ms, total: 13.5 s\n",
      "Wall time: 13.5 s\n"
     ]
    }
   ],
   "source": [
    "%%time\n",
    "\n",
    "X = data.loc[:, data.columns != 'particle_id']\n",
    "y = data[['particle_id']].values.ravel()\n",
    "\n",
    "mi = mutual_info_classif(X, y)\n",
    "mi /= mi.max()"
   ]
  },
  {
   "cell_type": "code",
   "execution_count": 8,
   "metadata": {},
   "outputs": [
    {
     "data": {
      "image/png": "[encoded data removed]",
      "text/plain": [
       "<matplotlib.figure.Figure at 0x7f8de808d198>"
      ]
     },
     "metadata": {},
     "output_type": "display_data"
    }
   ],
   "source": [
    "mi_frame = pd.DataFrame(list(zip(X.columns.values, mi)), columns=['feature', 'mi'])\n",
    "ax = sns.barplot(x='mi', y='feature', data=mi_frame.sort_values('mi', ascending=False).head(10), color='#3498db');\n",
    "ax.set_title('Top MI features', fontsize=20);\n",
    "ax.set_xlabel('Mutual Information', fontsize=15);\n",
    "ax.set_ylabel('Feature',fontsize=15);"
   ]
  },
  {
   "cell_type": "markdown",
   "metadata": {},
   "source": [
    "### F-statistic\n",
    "\n",
    "F-test estimates the degree of linear dependency between two random variables."
   ]
  },
  {
   "cell_type": "code",
   "execution_count": 9,
   "metadata": {},
   "outputs": [
    {
     "name": "stdout",
     "output_type": "stream",
     "text": [
      "CPU times: user 92 ms, sys: 0 ns, total: 92 ms\n",
      "Wall time: 92.9 ms\n"
     ]
    }
   ],
   "source": [
    "%%time\n",
    "X = data.loc[:, data.columns != 'particle_id']\n",
    "y = data[['particle_id']].values.ravel()\n",
    "\n",
    "f_selector = SelectKBest(f_classif, k=5)\n",
    "f_selector.fit_transform(X, y)\n",
    "f_scores = f_selector.scores_\n",
    "f_scores /= f_scores.max()"
   ]
  },
  {
   "cell_type": "code",
   "execution_count": 10,
   "metadata": {},
   "outputs": [
    {
     "data": {
      "image/png": "[encoded data removed]",
      "text/plain": [
       "<matplotlib.figure.Figure at 0x7f8dbb272be0>"
      ]
     },
     "metadata": {},
     "output_type": "display_data"
    }
   ],
   "source": [
    "scores_df = pd.DataFrame(list(zip(X.columns.values, f_scores)), columns=['feature', 'f_value'])\n",
    "scores_df = scores_df.sort_values('f_value', ascending=False)\n",
    "\n",
    "ax = sns.barplot(x=\"f_value\", y=\"feature\", data=scores_df.head(10), color='#3498db');\n",
    "ax.set_title('Top F-statistic features', fontsize=20);\n",
    "ax.set_xlabel('Score', fontsize=15);\n",
    "ax.set_ylabel('Feature',fontsize=15);"
   ]
  }
 ],
 "metadata": {
  "kernelspec": {
   "display_name": "Python 3",
   "language": "python",
   "name": "python3"
  },
  "language_info": {
   "codemirror_mode": {
    "name": "ipython",
    "version": 3
   },
   "file_extension": ".py",
   "mimetype": "text/x-python",
   "name": "python",
   "nbconvert_exporter": "python",
   "pygments_lexer": "ipython3",
   "version": "3.6.4"
  }
 },
 "nbformat": 4,
 "nbformat_minor": 2
}
