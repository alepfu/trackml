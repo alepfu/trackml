{
 "cells": [
  {
   "cell_type": "markdown",
   "metadata": {},
   "source": [
    "# Feature selection on detector regions\n",
    "We consider detector regions to be all combinations of volumes with their associated layers. When we look at the detector layout, any horizontal or vertical bar is considered to be a detector region.\n",
    "\n",
    "<img src=\"images/Detector.png\" alt=\"Detector layout\" width=\"600\"/>"
   ]
  },
  {
   "cell_type": "code",
   "execution_count": 27,
   "metadata": {},
   "outputs": [],
   "source": [
    "%matplotlib inline\n",
    "\n",
    "import pandas as pd\n",
    "import numpy as np\n",
    "import seaborn as sns\n",
    "import matplotlib.pyplot as plt\n",
    "from sklearn.tree import DecisionTreeClassifier\n",
    "from sklearn.preprocessing import MinMaxScaler\n",
    "from scripts.tracks import get_tracks\n",
    "from sklearn.metrics import roc_auc_score\n",
    "from sklearn.preprocessing import label_binarize\n",
    "from sklearn.model_selection import train_test_split\n",
    "\n",
    "pd.set_option('display.max_columns', None)"
   ]
  },
  {
   "cell_type": "markdown",
   "metadata": {},
   "source": [
    "#### Unpickle FE dataframe and FS feature importances"
   ]
  },
  {
   "cell_type": "code",
   "execution_count": 44,
   "metadata": {},
   "outputs": [
    {
     "name": "stdout",
     "output_type": "stream",
     "text": [
      "(120939, 46)\n",
      "(38, 5)\n"
     ]
    }
   ],
   "source": [
    "event_id = 'event000001000'\n",
    "data = pd.read_pickle('/home/alepfu/Desktop/dataset/pickle/' + event_id + '_FE.pkl')\n",
    "print(data.shape)\n",
    "\n",
    "feature_importances = pd.read_pickle('/home/alepfu/Desktop/dataset/pickle/feature_importances.pkl')\n",
    "print(feature_importances.shape)"
   ]
  },
  {
   "cell_type": "markdown",
   "metadata": {},
   "source": [
    "#### Pick a sample of tracks"
   ]
  },
  {
   "cell_type": "code",
   "execution_count": 29,
   "metadata": {},
   "outputs": [
    {
     "data": {
      "text/plain": [
       "(120939, 46)"
      ]
     },
     "execution_count": 29,
     "metadata": {},
     "output_type": "execute_result"
    }
   ],
   "source": [
    "N_tracks = 0\n",
    "data = get_tracks(data, N_tracks=N_tracks, drop_zero_weights=False, drop_zero_id=False, factorize_particle_id=False)\n",
    "data.shape"
   ]
  },
  {
   "cell_type": "markdown",
   "metadata": {},
   "source": [
    "#### Pick a subset of features\n",
    "For now we only keep high ranking features (high mean importance), see FS notebook."
   ]
  },
  {
   "cell_type": "code",
   "execution_count": 30,
   "metadata": {},
   "outputs": [
    {
     "data": {
      "text/plain": [
       "array(['x_r_sph', 'y_r_sph', 'cos_dist_rc', 'phi', 'cos_dist_lc',\n",
       "       'z_r_cyl', 'z_r_sph', 'theta', 'phi_atan2', 'y_r_cyl',\n",
       "       'theta_atan2', 'x_r_cyl', 'theta_pixel'], dtype=object)"
      ]
     },
     "execution_count": 30,
     "metadata": {},
     "output_type": "execute_result"
    }
   ],
   "source": [
    "N_features = 13\n",
    "features = feature_importances.head(N_features)['feature'].values\n",
    "features"
   ]
  },
  {
   "cell_type": "code",
   "execution_count": 31,
   "metadata": {},
   "outputs": [
    {
     "data": {
      "text/plain": [
       "(120939, 16)"
      ]
     },
     "execution_count": 31,
     "metadata": {},
     "output_type": "execute_result"
    }
   ],
   "source": [
    "data = data[np.insert(features, 0, ['hit_id','particle_id','vol_lay_concat'], axis=0)].copy()\n",
    "data.shape"
   ]
  },
  {
   "cell_type": "markdown",
   "metadata": {},
   "source": [
    "#### Set detector regions"
   ]
  },
  {
   "cell_type": "code",
   "execution_count": 32,
   "metadata": {},
   "outputs": [
    {
     "name": "stdout",
     "output_type": "stream",
     "text": [
      "Number of detector regions: 7\n"
     ]
    }
   ],
   "source": [
    "regions = np.array([72,74,76,78,710,712,714])\n",
    "\n",
    "#\n",
    "#,82,84,86,88,92,94,96,98,910,912,914,\n",
    "#                    122,124,126,128,1210,1212,132,134,136,138,142,144,146,148,1410,1412,\n",
    "#                    162,164,166,168,1610,1612,172,174,182,184,186,188,1810,1812\n",
    "\n",
    "print('Number of detector regions:', len(regions))\n"
   ]
  },
  {
   "cell_type": "markdown",
   "metadata": {},
   "source": [
    "### Atm we keep it simple and only use decsion tree for feature importances, later we add other trees."
   ]
  },
  {
   "cell_type": "code",
   "execution_count": 33,
   "metadata": {},
   "outputs": [
    {
     "name": "stdout",
     "output_type": "stream",
     "text": [
      "CPU times: user 1min 53s, sys: 268 ms, total: 1min 54s\n",
      "Wall time: 1min 54s\n"
     ]
    }
   ],
   "source": [
    "%%time\n",
    "\n",
    "mm_scaler = MinMaxScaler(feature_range=(0,100))\n",
    "\n",
    "imps = []\n",
    "nhits = []\n",
    "scores = []\n",
    "roc_auc = []\n",
    "\n",
    "for reg in regions:\n",
    "    data_reg = data[data['vol_lay_concat'] == reg]\n",
    "    nhits.append(data_reg.shape[0])\n",
    "    \n",
    "    X = data_reg.iloc[:,3:]\n",
    "    y = data_reg[['particle_id']].values.ravel()\n",
    "    y = label_binarize(y, classes=list(np.unique(y)))\n",
    "    \n",
    "    X_train, X_test, y_train, y_test = train_test_split(X, y, test_size=0.2, random_state=0)\n",
    "    \n",
    "    dec_tree = DecisionTreeClassifier(random_state=0)\n",
    "    dec_tree.fit(X_train, y_train)   \n",
    "    dec_tree_preds = dec_tree.predict(X_test)\n",
    "    roc_auc.append(roc_auc_score(y_test, dec_tree_preds, average='micro'))\n",
    "    scores.append(dec_tree.score(X_test, y_test))\n",
    "    \n",
    "    imps_scaled = mm_scaler.fit_transform(dec_tree.feature_importances_.reshape(-1,1))\n",
    "    imps_scaled = imps_scaled.reshape(1,-1).ravel()\n",
    "    imps.append(imps_scaled) "
   ]
  },
  {
   "cell_type": "code",
   "execution_count": 34,
   "metadata": {},
   "outputs": [
    {
     "data": {
      "text/html": [
       "<div>\n",
       "<style scoped>\n",
       "    .dataframe tbody tr th:only-of-type {\n",
       "        vertical-align: middle;\n",
       "    }\n",
       "\n",
       "    .dataframe tbody tr th {\n",
       "        vertical-align: top;\n",
       "    }\n",
       "\n",
       "    .dataframe thead th {\n",
       "        text-align: right;\n",
       "    }\n",
       "</style>\n",
       "<table border=\"1\" class=\"dataframe\">\n",
       "  <thead>\n",
       "    <tr style=\"text-align: right;\">\n",
       "      <th></th>\n",
       "      <th>region</th>\n",
       "      <th>x_r_sph</th>\n",
       "      <th>y_r_sph</th>\n",
       "      <th>cos_dist_rc</th>\n",
       "      <th>phi</th>\n",
       "      <th>cos_dist_lc</th>\n",
       "      <th>z_r_cyl</th>\n",
       "      <th>z_r_sph</th>\n",
       "      <th>theta</th>\n",
       "      <th>phi_atan2</th>\n",
       "      <th>y_r_cyl</th>\n",
       "      <th>theta_atan2</th>\n",
       "      <th>x_r_cyl</th>\n",
       "      <th>theta_pixel</th>\n",
       "      <th>nhits</th>\n",
       "      <th>score</th>\n",
       "      <th>roc_auc</th>\n",
       "    </tr>\n",
       "  </thead>\n",
       "  <tbody>\n",
       "    <tr>\n",
       "      <th>0</th>\n",
       "      <td>72</td>\n",
       "      <td>73.177397</td>\n",
       "      <td>73.383202</td>\n",
       "      <td>11.788410</td>\n",
       "      <td>8.213213</td>\n",
       "      <td>0.000000</td>\n",
       "      <td>27.851802</td>\n",
       "      <td>38.188315</td>\n",
       "      <td>100.000000</td>\n",
       "      <td>31.230720</td>\n",
       "      <td>68.430182</td>\n",
       "      <td>58.206453</td>\n",
       "      <td>72.147596</td>\n",
       "      <td>20.979176</td>\n",
       "      <td>1449</td>\n",
       "      <td>0.379310</td>\n",
       "      <td>0.689338</td>\n",
       "    </tr>\n",
       "    <tr>\n",
       "      <th>1</th>\n",
       "      <td>74</td>\n",
       "      <td>100.000000</td>\n",
       "      <td>76.927999</td>\n",
       "      <td>14.745343</td>\n",
       "      <td>4.902731</td>\n",
       "      <td>0.000000</td>\n",
       "      <td>39.473624</td>\n",
       "      <td>11.627311</td>\n",
       "      <td>82.444196</td>\n",
       "      <td>45.781014</td>\n",
       "      <td>48.163314</td>\n",
       "      <td>68.726710</td>\n",
       "      <td>77.375568</td>\n",
       "      <td>33.263509</td>\n",
       "      <td>1767</td>\n",
       "      <td>0.511299</td>\n",
       "      <td>0.755436</td>\n",
       "    </tr>\n",
       "    <tr>\n",
       "      <th>2</th>\n",
       "      <td>76</td>\n",
       "      <td>94.724051</td>\n",
       "      <td>80.687008</td>\n",
       "      <td>0.000000</td>\n",
       "      <td>18.279984</td>\n",
       "      <td>19.689286</td>\n",
       "      <td>22.275643</td>\n",
       "      <td>10.767096</td>\n",
       "      <td>100.000000</td>\n",
       "      <td>30.740733</td>\n",
       "      <td>46.374739</td>\n",
       "      <td>68.311839</td>\n",
       "      <td>38.152133</td>\n",
       "      <td>27.997853</td>\n",
       "      <td>2165</td>\n",
       "      <td>0.487298</td>\n",
       "      <td>0.743455</td>\n",
       "    </tr>\n",
       "    <tr>\n",
       "      <th>3</th>\n",
       "      <td>78</td>\n",
       "      <td>76.150639</td>\n",
       "      <td>80.510404</td>\n",
       "      <td>15.133191</td>\n",
       "      <td>7.018348</td>\n",
       "      <td>19.729615</td>\n",
       "      <td>24.121597</td>\n",
       "      <td>0.000000</td>\n",
       "      <td>100.000000</td>\n",
       "      <td>17.982871</td>\n",
       "      <td>63.967178</td>\n",
       "      <td>89.339147</td>\n",
       "      <td>49.650137</td>\n",
       "      <td>12.861490</td>\n",
       "      <td>2553</td>\n",
       "      <td>0.547945</td>\n",
       "      <td>0.773819</td>\n",
       "    </tr>\n",
       "    <tr>\n",
       "      <th>4</th>\n",
       "      <td>710</td>\n",
       "      <td>97.033072</td>\n",
       "      <td>96.528735</td>\n",
       "      <td>18.463109</td>\n",
       "      <td>0.000000</td>\n",
       "      <td>0.351617</td>\n",
       "      <td>20.706081</td>\n",
       "      <td>24.091733</td>\n",
       "      <td>100.000000</td>\n",
       "      <td>2.268555</td>\n",
       "      <td>65.879075</td>\n",
       "      <td>88.579494</td>\n",
       "      <td>87.605492</td>\n",
       "      <td>16.089446</td>\n",
       "      <td>2887</td>\n",
       "      <td>0.605536</td>\n",
       "      <td>0.802647</td>\n",
       "    </tr>\n",
       "    <tr>\n",
       "      <th>5</th>\n",
       "      <td>712</td>\n",
       "      <td>100.000000</td>\n",
       "      <td>78.223048</td>\n",
       "      <td>4.791410</td>\n",
       "      <td>21.476829</td>\n",
       "      <td>0.000000</td>\n",
       "      <td>3.024627</td>\n",
       "      <td>2.319841</td>\n",
       "      <td>60.774871</td>\n",
       "      <td>3.692889</td>\n",
       "      <td>37.480382</td>\n",
       "      <td>88.569992</td>\n",
       "      <td>63.320367</td>\n",
       "      <td>2.312751</td>\n",
       "      <td>3028</td>\n",
       "      <td>0.594059</td>\n",
       "      <td>0.796908</td>\n",
       "    </tr>\n",
       "    <tr>\n",
       "      <th>6</th>\n",
       "      <td>714</td>\n",
       "      <td>78.298026</td>\n",
       "      <td>57.893572</td>\n",
       "      <td>10.588295</td>\n",
       "      <td>27.085934</td>\n",
       "      <td>9.860668</td>\n",
       "      <td>9.052721</td>\n",
       "      <td>0.000000</td>\n",
       "      <td>72.182646</td>\n",
       "      <td>7.551399</td>\n",
       "      <td>35.962661</td>\n",
       "      <td>100.000000</td>\n",
       "      <td>68.908976</td>\n",
       "      <td>8.694888</td>\n",
       "      <td>3024</td>\n",
       "      <td>0.631405</td>\n",
       "      <td>0.815594</td>\n",
       "    </tr>\n",
       "  </tbody>\n",
       "</table>\n",
       "</div>"
      ],
      "text/plain": [
       "   region     x_r_sph    y_r_sph  cos_dist_rc        phi  cos_dist_lc  \\\n",
       "0      72   73.177397  73.383202    11.788410   8.213213     0.000000   \n",
       "1      74  100.000000  76.927999    14.745343   4.902731     0.000000   \n",
       "2      76   94.724051  80.687008     0.000000  18.279984    19.689286   \n",
       "3      78   76.150639  80.510404    15.133191   7.018348    19.729615   \n",
       "4     710   97.033072  96.528735    18.463109   0.000000     0.351617   \n",
       "5     712  100.000000  78.223048     4.791410  21.476829     0.000000   \n",
       "6     714   78.298026  57.893572    10.588295  27.085934     9.860668   \n",
       "\n",
       "     z_r_cyl    z_r_sph       theta  phi_atan2    y_r_cyl  theta_atan2  \\\n",
       "0  27.851802  38.188315  100.000000  31.230720  68.430182    58.206453   \n",
       "1  39.473624  11.627311   82.444196  45.781014  48.163314    68.726710   \n",
       "2  22.275643  10.767096  100.000000  30.740733  46.374739    68.311839   \n",
       "3  24.121597   0.000000  100.000000  17.982871  63.967178    89.339147   \n",
       "4  20.706081  24.091733  100.000000   2.268555  65.879075    88.579494   \n",
       "5   3.024627   2.319841   60.774871   3.692889  37.480382    88.569992   \n",
       "6   9.052721   0.000000   72.182646   7.551399  35.962661   100.000000   \n",
       "\n",
       "     x_r_cyl  theta_pixel  nhits     score   roc_auc  \n",
       "0  72.147596    20.979176   1449  0.379310  0.689338  \n",
       "1  77.375568    33.263509   1767  0.511299  0.755436  \n",
       "2  38.152133    27.997853   2165  0.487298  0.743455  \n",
       "3  49.650137    12.861490   2553  0.547945  0.773819  \n",
       "4  87.605492    16.089446   2887  0.605536  0.802647  \n",
       "5  63.320367     2.312751   3028  0.594059  0.796908  \n",
       "6  68.908976     8.694888   3024  0.631405  0.815594  "
      ]
     },
     "execution_count": 34,
     "metadata": {},
     "output_type": "execute_result"
    }
   ],
   "source": [
    "dec_tree_df = pd.concat([pd.DataFrame(regions, columns=['region']), \n",
    "                         pd.DataFrame(np.array(imps), columns=features), \n",
    "                         pd.DataFrame(nhits, columns=['nhits']), \n",
    "                         pd.DataFrame(scores, columns=['score']),\n",
    "                         pd.DataFrame(roc_auc, columns=['roc_auc'])], axis=1)\n",
    "\n",
    "dec_tree_df.head(len(regions))"
   ]
  },
  {
   "cell_type": "markdown",
   "metadata": {},
   "source": [
    "### Viz feature importances for every detector region"
   ]
  },
  {
   "cell_type": "code",
   "execution_count": 35,
   "metadata": {},
   "outputs": [
    {
     "data": {
      "image/png": "[encoded data removed]",
      "text/plain": [
       "<matplotlib.figure.Figure at 0x7fe8403ac5c0>"
      ]
     },
     "metadata": {},
     "output_type": "display_data"
    }
   ],
   "source": [
    "ax = dec_tree_df[np.insert(features, 0, ['region'], axis=0)].plot(x='region', kind='bar', figsize=(30,10), colormap='tab20')\n",
    "ax.legend(loc='center left', bbox_to_anchor=(1, 0.5))\n",
    "ax.set_xticklabels(ax.get_xticklabels(), rotation=0);\n",
    "ax.set_xlabel('Detector region', fontsize=25);\n",
    "ax.set_ylabel('Importance',fontsize=25);\n",
    "ax.set_title('Decision tree feature importances for volume 7', fontsize=30);\n",
    "ax.tick_params(labelsize=20);\n",
    "plt.setp(ax.get_legend().get_texts(), fontsize='20');"
   ]
  },
  {
   "cell_type": "markdown",
   "metadata": {},
   "source": [
    "### Isolate features that change a lot from layer to layer"
   ]
  },
  {
   "cell_type": "code",
   "execution_count": 36,
   "metadata": {},
   "outputs": [
    {
     "data": {
      "text/plain": [
       "x_r_sph        144.569891\n",
       "y_r_sph        130.521921\n",
       "cos_dist_rc     41.138213\n",
       "phi             98.182608\n",
       "cos_dist_lc     87.064764\n",
       "z_r_cyl        144.249444\n",
       "z_r_sph        202.353578\n",
       "theta          266.368693\n",
       "phi_atan2      274.239138\n",
       "y_r_cyl        186.574032\n",
       "theta_atan2    228.750276\n",
       "x_r_cyl        281.518650\n",
       "theta_pixel    117.078805\n",
       "dtype: float64"
      ]
     },
     "execution_count": 36,
     "metadata": {},
     "output_type": "execute_result"
    }
   ],
   "source": [
    "dec_tree_df.iloc[:,1:-3].var(axis=0)"
   ]
  },
  {
   "cell_type": "code",
   "execution_count": 42,
   "metadata": {},
   "outputs": [
    {
     "data": {
      "text/html": [
       "<div>\n",
       "<style scoped>\n",
       "    .dataframe tbody tr th:only-of-type {\n",
       "        vertical-align: middle;\n",
       "    }\n",
       "\n",
       "    .dataframe tbody tr th {\n",
       "        vertical-align: top;\n",
       "    }\n",
       "\n",
       "    .dataframe thead th {\n",
       "        text-align: right;\n",
       "    }\n",
       "</style>\n",
       "<table border=\"1\" class=\"dataframe\">\n",
       "  <thead>\n",
       "    <tr style=\"text-align: right;\">\n",
       "      <th></th>\n",
       "      <th>0</th>\n",
       "      <th>1</th>\n",
       "    </tr>\n",
       "  </thead>\n",
       "  <tbody>\n",
       "    <tr>\n",
       "      <th>x_r_sph</th>\n",
       "      <td>144.569891</td>\n",
       "      <td>144.569891</td>\n",
       "    </tr>\n",
       "    <tr>\n",
       "      <th>y_r_sph</th>\n",
       "      <td>130.521921</td>\n",
       "      <td>130.521921</td>\n",
       "    </tr>\n",
       "    <tr>\n",
       "      <th>cos_dist_rc</th>\n",
       "      <td>41.138213</td>\n",
       "      <td>41.138213</td>\n",
       "    </tr>\n",
       "    <tr>\n",
       "      <th>phi</th>\n",
       "      <td>98.182608</td>\n",
       "      <td>98.182608</td>\n",
       "    </tr>\n",
       "    <tr>\n",
       "      <th>cos_dist_lc</th>\n",
       "      <td>87.064764</td>\n",
       "      <td>87.064764</td>\n",
       "    </tr>\n",
       "    <tr>\n",
       "      <th>z_r_cyl</th>\n",
       "      <td>144.249444</td>\n",
       "      <td>144.249444</td>\n",
       "    </tr>\n",
       "    <tr>\n",
       "      <th>z_r_sph</th>\n",
       "      <td>202.353578</td>\n",
       "      <td>202.353578</td>\n",
       "    </tr>\n",
       "    <tr>\n",
       "      <th>theta</th>\n",
       "      <td>266.368693</td>\n",
       "      <td>266.368693</td>\n",
       "    </tr>\n",
       "    <tr>\n",
       "      <th>phi_atan2</th>\n",
       "      <td>274.239138</td>\n",
       "      <td>274.239138</td>\n",
       "    </tr>\n",
       "    <tr>\n",
       "      <th>y_r_cyl</th>\n",
       "      <td>186.574032</td>\n",
       "      <td>186.574032</td>\n",
       "    </tr>\n",
       "    <tr>\n",
       "      <th>theta_atan2</th>\n",
       "      <td>228.750276</td>\n",
       "      <td>228.750276</td>\n",
       "    </tr>\n",
       "    <tr>\n",
       "      <th>x_r_cyl</th>\n",
       "      <td>281.518650</td>\n",
       "      <td>281.518650</td>\n",
       "    </tr>\n",
       "    <tr>\n",
       "      <th>theta_pixel</th>\n",
       "      <td>117.078805</td>\n",
       "      <td>117.078805</td>\n",
       "    </tr>\n",
       "  </tbody>\n",
       "</table>\n",
       "</div>"
      ],
      "text/plain": [
       "                      0           1\n",
       "x_r_sph      144.569891  144.569891\n",
       "y_r_sph      130.521921  130.521921\n",
       "cos_dist_rc   41.138213   41.138213\n",
       "phi           98.182608   98.182608\n",
       "cos_dist_lc   87.064764   87.064764\n",
       "z_r_cyl      144.249444  144.249444\n",
       "z_r_sph      202.353578  202.353578\n",
       "theta        266.368693  266.368693\n",
       "phi_atan2    274.239138  274.239138\n",
       "y_r_cyl      186.574032  186.574032\n",
       "theta_atan2  228.750276  228.750276\n",
       "x_r_cyl      281.518650  281.518650\n",
       "theta_pixel  117.078805  117.078805"
      ]
     },
     "execution_count": 42,
     "metadata": {},
     "output_type": "execute_result"
    }
   ],
   "source": [
    "\n",
    "\n",
    "var_df"
   ]
  },
  {
   "cell_type": "code",
   "execution_count": null,
   "metadata": {},
   "outputs": [],
   "source": []
  },
  {
   "cell_type": "code",
   "execution_count": null,
   "metadata": {},
   "outputs": [],
   "source": []
  },
  {
   "cell_type": "code",
   "execution_count": null,
   "metadata": {},
   "outputs": [],
   "source": []
  },
  {
   "cell_type": "code",
   "execution_count": null,
   "metadata": {},
   "outputs": [],
   "source": []
  },
  {
   "cell_type": "code",
   "execution_count": null,
   "metadata": {},
   "outputs": [],
   "source": []
  },
  {
   "cell_type": "code",
   "execution_count": null,
   "metadata": {},
   "outputs": [],
   "source": []
  }
 ],
 "metadata": {
  "kernelspec": {
   "display_name": "Python 3",
   "language": "python",
   "name": "python3"
  },
  "language_info": {
   "codemirror_mode": {
    "name": "ipython",
    "version": 3
   },
   "file_extension": ".py",
   "mimetype": "text/x-python",
   "name": "python",
   "nbconvert_exporter": "python",
   "pygments_lexer": "ipython3",
   "version": "3.6.4"
  }
 },
 "nbformat": 4,
 "nbformat_minor": 2
}
