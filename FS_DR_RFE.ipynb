{
 "cells": [
  {
   "cell_type": "markdown",
   "metadata": {},
   "source": [
    "# Feature selection on detector regions with RFE algorithm"
   ]
  },
  {
   "cell_type": "markdown",
   "metadata": {},
   "source": [
    "### RFE with decision tree "
   ]
  },
  {
   "cell_type": "code",
   "execution_count": 476,
   "metadata": {},
   "outputs": [
    {
     "name": "stdout",
     "output_type": "stream",
     "text": [
      "CPU times: user 384 ms, sys: 0 ns, total: 384 ms\n",
      "Wall time: 389 ms\n"
     ]
    }
   ],
   "source": [
    "%%time\n",
    "\n",
    "N_rfe_features = 3\n",
    "\n",
    "ranks = []\n",
    "for reg in regions:\n",
    "    data_reg = data[data['vol_lay_concat']==reg]\n",
    "    \n",
    "    X_reg = data_reg.iloc[:,3:]\n",
    "    y_reg = data_reg[['particle_id']].values.ravel()\n",
    "    \n",
    "    dec_tree_clf = DecisionTreeClassifier()\n",
    "    dec_tree_rfe = RFE(estimator=dec_tree_clf, step=1, n_features_to_select=N_rfe_features)\n",
    "    dec_tree_rfe.fit(X_reg, y_reg);  \n",
    "    \n",
    "    ranks.append(dec_tree_rfe.ranking_)"
   ]
  },
  {
   "cell_type": "code",
   "execution_count": 477,
   "metadata": {},
   "outputs": [],
   "source": [
    "dec_ranks_df = pd.DataFrame(np.array(ranks), columns=features)\n",
    "dec_ranks_df = pd.concat([pd.DataFrame(regions, columns=['region']), dec_ranks_df], axis=1)"
   ]
  },
  {
   "cell_type": "markdown",
   "metadata": {},
   "source": [
    "### RFE selected features for every detector region"
   ]
  },
  {
   "cell_type": "code",
   "execution_count": 478,
   "metadata": {},
   "outputs": [
    {
     "name": "stdout",
     "output_type": "stream",
     "text": [
      "72 ['theta', 'x_r_sph', 'z_r_cyl']\n",
      "74 ['theta_pixel', 'x_r_cyl', 'y_r_cyl']\n",
      "76 ['cos_dist_rc', 'phi', 'x_r_sph']\n",
      "78 ['phi_atan2', 'theta', 'y_r_sph']\n",
      "710 ['phi', 'y_r_sph', 'z_r_cyl']\n",
      "712 ['cos_dist_lc', 'cos_dist_rc', 'y_r_sph']\n",
      "714 ['cos_dist_rc', 'z_r_cyl', 'z_r_sph']\n"
     ]
    }
   ],
   "source": [
    "for index, row in dec_ranks_df.iterrows():\n",
    "    print(row.region, sorted(row[row == 1].index.values))"
   ]
  }
 ],
 "metadata": {
  "kernelspec": {
   "display_name": "Python 3",
   "language": "python",
   "name": "python3"
  },
  "language_info": {
   "codemirror_mode": {
    "name": "ipython",
    "version": 3
   },
   "file_extension": ".py",
   "mimetype": "text/x-python",
   "name": "python",
   "nbconvert_exporter": "python",
   "pygments_lexer": "ipython3",
   "version": "3.6.4"
  }
 },
 "nbformat": 4,
 "nbformat_minor": 2
}
