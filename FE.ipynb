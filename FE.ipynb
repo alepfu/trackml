{
 "cells": [
  {
   "cell_type": "markdown",
   "metadata": {},
   "source": [
    "# Feature engineering\n"
   ]
  },
  {
   "cell_type": "code",
   "execution_count": 7,
   "metadata": {},
   "outputs": [],
   "source": [
    "%matplotlib inline\n",
    "\n",
    "import numpy as np\n",
    "import pandas as pd\n",
    "import matplotlib.pyplot as plt\n",
    "import seaborn as sns\n",
    "import random\n",
    "from trackml.dataset import load_event\n",
    "from sklearn.preprocessing import StandardScaler\n",
    "from sklearn.metrics.pairwise import cosine_similarity\n",
    "\n",
    "from scripts.tracks import get_tracks\n",
    "from scripts.pixels  import pixel_angles\n",
    "from scripts.pixels  import cluster_size\n",
    "\n",
    "pd.set_option('display.max_columns', None)"
   ]
  },
  {
   "cell_type": "markdown",
   "metadata": {},
   "source": [
    "#### Load data"
   ]
  },
  {
   "cell_type": "code",
   "execution_count": 8,
   "metadata": {},
   "outputs": [
    {
     "name": "stdout",
     "output_type": "stream",
     "text": [
      "(120939, 15)\n"
     ]
    }
   ],
   "source": [
    "path2data = '/home/alepfu/Desktop/dataset/train_100_events/'\n",
    "event_id = 'event000001000'\n",
    "hits, cells, particles, truth = load_event(path2data + event_id)\n",
    "\n",
    "merge = pd.merge(truth, pd.DataFrame(hits), on=['hit_id'])\n",
    "hits = merge.copy()\n",
    "\n",
    "print(hits.shape)"
   ]
  },
  {
   "cell_type": "markdown",
   "metadata": {},
   "source": [
    "#### Wrangle data and get hits for a subset of tracks"
   ]
  },
  {
   "cell_type": "code",
   "execution_count": 9,
   "metadata": {},
   "outputs": [
    {
     "name": "stdout",
     "output_type": "stream",
     "text": [
      "(120939, 15)\n"
     ]
    }
   ],
   "source": [
    "N_tracks = 0\n",
    "hits = get_tracks(hits, N_tracks=N_tracks, drop_zero_weights=False, drop_zero_id=False, factorize_particle_id=True)\n",
    "print(hits.shape)"
   ]
  },
  {
   "cell_type": "markdown",
   "metadata": {},
   "source": [
    "## Features from coordinates\n",
    "\n",
    "### Add scaled cartesian coordinates\n",
    "\n",
    "Since machine learning algorithms tend to work better with normalized features, we add the scaled coordinates to the dataset."
   ]
  },
  {
   "cell_type": "code",
   "execution_count": 10,
   "metadata": {},
   "outputs": [],
   "source": [
    "hits = hits.assign(x_scaled = hits['x'])\n",
    "hits = hits.assign(y_scaled = hits['y'])\n",
    "hits = hits.assign(z_scaled = hits['z'])\n",
    "scaler = StandardScaler()\n",
    "hits[['x_scaled', 'y_scaled', 'z_scaled']] = scaler.fit_transform(hits[['x', 'y', 'z']])"
   ]
  },
  {
   "cell_type": "markdown",
   "metadata": {},
   "source": [
    "### Add cylindrical coordinates\n",
    "The detector has the shape of a barrel, therefore we add [cylindrical coordinates](http://mathworld.wolfram.com/CylindricalCoordinates.html) to the dataset. The cylindrical coordinates $(r,\\theta,z)$, with $r\\geq 0$ and $\\theta\\in[0,2\\pi]$, are given by $r=\\sqrt{x^2+y^2}, \\theta=\\tan^{-1}\\left(\\frac{y}{x}\\right)$ and $ z=z$.\n",
    "\n",
    "\n",
    "\n",
    "\n"
   ]
  },
  {
   "cell_type": "code",
   "execution_count": 11,
   "metadata": {},
   "outputs": [],
   "source": [
    "hits = hits.assign(r_cyl= np.sqrt(hits['x']**2 + hits['y']**2))\n",
    "hits = hits.assign(theta = np.arctan(np.divide(hits['y'], hits['x'])))"
   ]
  },
  {
   "cell_type": "markdown",
   "metadata": {},
   "source": [
    "### Add spherical coordinates\n",
    "\n",
    "We also add [spherical coordinates](http://mathworld.wolfram.com/SphericalCoordinates.html) to the dataset, since they strongly realte to cylindrical coordinates and in addition also account for the polar angle/distance information. Spherical coordinates $(r,\\theta,\\phi)$, with $r\\geq 0, \\theta\\in[0,2\\pi] $ and $ \\phi\\in[0,\\pi]$, are given by $ r=\\sqrt{x^2+y^2+z^2}, \\theta=\\tan^{-1}\\left(\\frac{y}{x}\\right) $ and $ \\phi=\\cos^{-1}\\left(\\frac{z}{r}\\right)$."
   ]
  },
  {
   "cell_type": "code",
   "execution_count": 12,
   "metadata": {},
   "outputs": [],
   "source": [
    "hits = hits.assign(r_sph= np.sqrt(hits['x']**2 + hits['y']**2 + hits['z']**2))\n",
    "hits = hits.assign(phi = np.arccos(np.divide(hits['z'], hits['r_sph'])))"
   ]
  },
  {
   "cell_type": "markdown",
   "metadata": {},
   "source": [
    "### Add atan2 features for angles\n",
    "\n",
    "To account quadrant information for the azimuthal and polar angles, we add [atan2](https://en.wikipedia.org/wiki/Atan2) versions of $\\theta$ and $\\phi$."
   ]
  },
  {
   "cell_type": "code",
   "execution_count": 13,
   "metadata": {},
   "outputs": [],
   "source": [
    "hits = hits.assign(theta_atan2 = np.arctan2(hits['y'], hits['x']))\n",
    "hits = hits.assign(phi_atan2 = np.arctan2(hits['z'], hits['r_sph']))"
   ]
  },
  {
   "cell_type": "markdown",
   "metadata": {},
   "source": [
    "### Add radial scaled cartesian coordinates\n",
    "\n",
    "The idea behind these features is to account for the radial displacement from spherical and cylindrical coordinates, by combining it with the cartesian coordinates and normalizing it them."
   ]
  },
  {
   "cell_type": "code",
   "execution_count": 14,
   "metadata": {},
   "outputs": [],
   "source": [
    "hits = hits.assign(x_r_cyl = hits['x']/hits['r_cyl'])\n",
    "hits = hits.assign(y_r_cyl = hits['y']/hits['r_cyl'])\n",
    "hits = hits.assign(z_r_cyl = hits['z']/hits['r_cyl'])\n",
    "hits = hits.assign(x_r_sph = hits['x']/hits['r_sph'])\n",
    "hits = hits.assign(y_r_sph = hits['y']/hits['r_sph'])\n",
    "hits = hits.assign(z_r_sph = hits['z']/hits['r_sph'])\n",
    "scaler = StandardScaler()\n",
    "hits[['x_r_cyl','y_r_cyl','z_r_cyl','x_r_sph','y_r_sph','z_r_sph']] = scaler.fit_transform(hits[['x_r_cyl','y_r_cyl','z_r_cyl','x_r_sph','y_r_sph','z_r_sph']])"
   ]
  },
  {
   "cell_type": "markdown",
   "metadata": {},
   "source": [
    "#### Display all new coordinates features"
   ]
  },
  {
   "cell_type": "code",
   "execution_count": 15,
   "metadata": {},
   "outputs": [
    {
     "data": {
      "text/html": [
       "<div>\n",
       "<style scoped>\n",
       "    .dataframe tbody tr th:only-of-type {\n",
       "        vertical-align: middle;\n",
       "    }\n",
       "\n",
       "    .dataframe tbody tr th {\n",
       "        vertical-align: top;\n",
       "    }\n",
       "\n",
       "    .dataframe thead th {\n",
       "        text-align: right;\n",
       "    }\n",
       "</style>\n",
       "<table border=\"1\" class=\"dataframe\">\n",
       "  <thead>\n",
       "    <tr style=\"text-align: right;\">\n",
       "      <th></th>\n",
       "      <th>hit_id</th>\n",
       "      <th>x_scaled</th>\n",
       "      <th>y_scaled</th>\n",
       "      <th>z_scaled</th>\n",
       "      <th>r_cyl</th>\n",
       "      <th>r_sph</th>\n",
       "      <th>theta</th>\n",
       "      <th>theta_atan2</th>\n",
       "      <th>phi</th>\n",
       "      <th>phi_atan2</th>\n",
       "      <th>x_r_cyl</th>\n",
       "      <th>y_r_cyl</th>\n",
       "      <th>z_r_cyl</th>\n",
       "      <th>x_r_sph</th>\n",
       "      <th>y_r_sph</th>\n",
       "      <th>z_r_sph</th>\n",
       "    </tr>\n",
       "  </thead>\n",
       "  <tbody>\n",
       "    <tr>\n",
       "      <th>0</th>\n",
       "      <td>1</td>\n",
       "      <td>-0.204899</td>\n",
       "      <td>-0.039043</td>\n",
       "      <td>-1.412726</td>\n",
       "      <td>64.807045</td>\n",
       "      <td>1503.896973</td>\n",
       "      <td>0.110765</td>\n",
       "      <td>-3.030827</td>\n",
       "      <td>3.098488</td>\n",
       "      <td>-0.784934</td>\n",
       "      <td>-1.394274</td>\n",
       "      <td>-0.172688</td>\n",
       "      <td>-2.712489</td>\n",
       "      <td>-0.10494</td>\n",
       "      <td>-0.037798</td>\n",
       "      <td>-1.188751</td>\n",
       "    </tr>\n",
       "  </tbody>\n",
       "</table>\n",
       "</div>"
      ],
      "text/plain": [
       "   hit_id  x_scaled  y_scaled  z_scaled      r_cyl        r_sph     theta  \\\n",
       "0       1 -0.204899 -0.039043 -1.412726  64.807045  1503.896973  0.110765   \n",
       "\n",
       "   theta_atan2       phi  phi_atan2   x_r_cyl   y_r_cyl   z_r_cyl  x_r_sph  \\\n",
       "0    -3.030827  3.098488  -0.784934 -1.394274 -0.172688 -2.712489 -0.10494   \n",
       "\n",
       "    y_r_sph   z_r_sph  \n",
       "0 -0.037798 -1.188751  "
      ]
     },
     "execution_count": 15,
     "metadata": {},
     "output_type": "execute_result"
    }
   ],
   "source": [
    "hits[['hit_id','x_scaled', 'y_scaled', 'z_scaled','r_cyl','r_sph','theta','theta_atan2','phi','phi_atan2',\n",
    "      'x_r_cyl','y_r_cyl','z_r_cyl','x_r_sph','y_r_sph','z_r_sph']].head(1)"
   ]
  },
  {
   "cell_type": "markdown",
   "metadata": {},
   "source": [
    "## Features from cells\n",
    "\n",
    "The hit coordinates from the hits file are reconstructed values from a multiplicity of activated detector cells (pixels). The quantities that were used in the hit reconstruction have therefore the possiblity to be valuable features. The cells file relates hits to pixels and allows for the computation of various quantities.\n",
    "\n",
    "### Add features from accumlated cells information\n",
    "\n",
    "The following features derive from the set of pixels per hit:\n",
    "* Number of pixels\n",
    "* Sum of signal values (the full charge deposited)"
   ]
  },
  {
   "cell_type": "code",
   "execution_count": 16,
   "metadata": {},
   "outputs": [],
   "source": [
    "hit_ncells = pd.DataFrame(cells.groupby('hit_id').size()).reset_index()\n",
    "hit_ncells.rename(columns={0:'n_pixel'}, inplace=True)\n",
    "hits = hits.join(hit_ncells.set_index('hit_id'), on='hit_id')\n",
    "\n",
    "hit_signal = pd.DataFrame(cells.groupby('hit_id').sum()).reset_index()\n",
    "hit_signal = hit_signal[['hit_id','value']]\n",
    "hit_signal.rename(columns={'value':'signal_pixel'}, inplace=True)\n",
    "hits = hits.join(hit_signal.set_index('hit_id'), on='hit_id')"
   ]
  },
  {
   "cell_type": "markdown",
   "metadata": {},
   "source": [
    "### Add features computed from cells information\n",
    "\n",
    "For a set of pixel we are able to compute the following quantities:\n",
    "* Pixel angles (azimuthal and polar)\n",
    "* Path length through the pixel cluster\n",
    "* The dimension (u,v) of the pixel cluster"
   ]
  },
  {
   "cell_type": "code",
   "execution_count": 17,
   "metadata": {},
   "outputs": [
    {
     "name": "stdout",
     "output_type": "stream",
     "text": [
      "CPU times: user 9min 32s, sys: 184 ms, total: 9min 32s\n",
      "Wall time: 9min 32s\n"
     ]
    }
   ],
   "source": [
    "%%time\n",
    "detector = pd.read_csv('/home/alepfu/Desktop/dataset/detectors.csv')\n",
    "\n",
    "hits['pixel_angles'] = hits.apply(lambda hit: pixel_angles(hit['x'],hit['y'],hit['z'],hit['r_sph'],\n",
    "                                                           hit['volume_id'],hit['layer_id'],hit['module_id'], \n",
    "                                                           detector), axis=1)\n",
    "\n",
    "hits[['phi_pixel', 'theta_pixel']] = hits['pixel_angles'].apply(pd.Series)\n",
    "hits = hits.drop(['pixel_angles'], axis=1)\n",
    "\n",
    "hits['cluster_size'] = hits.apply(lambda hit: cluster_size(hit['phi_pixel'],hit['theta_pixel'],\n",
    "                                                           hit['volume_id'],hit['layer_id'],hit['module_id'], \n",
    "                                                           detector), axis=1)\n",
    "\n",
    "hits[['path_pixel','u_pixel','v_pixel']] = hits['cluster_size'].apply(pd.Series)\n",
    "hits = hits.drop(['cluster_size'], axis=1)"
   ]
  },
  {
   "cell_type": "markdown",
   "metadata": {},
   "source": [
    "#### Display all new cells features"
   ]
  },
  {
   "cell_type": "code",
   "execution_count": 18,
   "metadata": {},
   "outputs": [
    {
     "data": {
      "text/html": [
       "<div>\n",
       "<style scoped>\n",
       "    .dataframe tbody tr th:only-of-type {\n",
       "        vertical-align: middle;\n",
       "    }\n",
       "\n",
       "    .dataframe tbody tr th {\n",
       "        vertical-align: top;\n",
       "    }\n",
       "\n",
       "    .dataframe thead th {\n",
       "        text-align: right;\n",
       "    }\n",
       "</style>\n",
       "<table border=\"1\" class=\"dataframe\">\n",
       "  <thead>\n",
       "    <tr style=\"text-align: right;\">\n",
       "      <th></th>\n",
       "      <th>hit_id</th>\n",
       "      <th>n_pixel</th>\n",
       "      <th>signal_pixel</th>\n",
       "      <th>phi_pixel</th>\n",
       "      <th>theta_pixel</th>\n",
       "      <th>path_pixel</th>\n",
       "      <th>u_pixel</th>\n",
       "      <th>v_pixel</th>\n",
       "    </tr>\n",
       "  </thead>\n",
       "  <tbody>\n",
       "    <tr>\n",
       "      <th>0</th>\n",
       "      <td>1</td>\n",
       "      <td>3</td>\n",
       "      <td>0.305441</td>\n",
       "      <td>1.538571</td>\n",
       "      <td>0.043106</td>\n",
       "      <td>0.300279</td>\n",
       "      <td>0.008338</td>\n",
       "      <td>0.229922</td>\n",
       "    </tr>\n",
       "  </tbody>\n",
       "</table>\n",
       "</div>"
      ],
      "text/plain": [
       "   hit_id  n_pixel  signal_pixel  phi_pixel  theta_pixel  path_pixel  \\\n",
       "0       1        3      0.305441   1.538571     0.043106    0.300279   \n",
       "\n",
       "    u_pixel   v_pixel  \n",
       "0  0.008338  0.229922  "
      ]
     },
     "execution_count": 18,
     "metadata": {},
     "output_type": "execute_result"
    }
   ],
   "source": [
    "hits[['hit_id','n_pixel','signal_pixel','phi_pixel','theta_pixel','path_pixel','u_pixel','v_pixel']].head(1)"
   ]
  },
  {
   "cell_type": "markdown",
   "metadata": {},
   "source": [
    "## Features from detector layout\n",
    "\n",
    "### Add features for volume and layer information\n",
    "\n",
    "Features deriving from the volumen and layer information include:\n",
    "* Volume indicators (wether a hit occured in the inner/short/long parts of the detector or not)\n",
    "* Feature combinations of volume and layer IDs (multiply, add and concat as integers)"
   ]
  },
  {
   "cell_type": "code",
   "execution_count": 19,
   "metadata": {},
   "outputs": [],
   "source": [
    "hits['vol_inner'] = 1 * np.isin(hits.volume_id.values, [7, 8, 9])\n",
    "hits['vol_short'] = 1 * np.isin(hits.volume_id.values, [12, 13, 14])\n",
    "hits['vol_long'] = 1 * np.isin(hits.volume_id.values, [16, 17, 18])\n",
    "\n",
    "hits['vol_lay_mul'] = np.multiply(hits.volume_id.values, hits.layer_id.values)\n",
    "hits['vol_lay_add'] = np.add(hits.volume_id.values, hits.layer_id.values)\n",
    "\n",
    "hits['vol_lay_concat'] = hits['volume_id'].map(str) + hits['layer_id'].map(str)\n",
    "hits['vol_lay_concat'] = hits['vol_lay_concat'].astype(int)"
   ]
  },
  {
   "cell_type": "markdown",
   "metadata": {},
   "source": [
    "### Add Z direction feature\n",
    "\n",
    "Since only a small portion of tracks pass through the Z-origin, we can add a direction feature for hits belonging to particles going forward or backward."
   ]
  },
  {
   "cell_type": "code",
   "execution_count": 20,
   "metadata": {},
   "outputs": [
    {
     "name": "stdout",
     "output_type": "stream",
     "text": [
      "Percentage of tracks that go through the Z-origin: 0.45 %\n"
     ]
    }
   ],
   "source": [
    "min_max_z = full_merge.groupby('particle_id').agg({'z':[np.min, np.max]}).reset_index()\n",
    "min_max_z.columns = [\"\".join(x) for x in min_max_z.columns.ravel()]\n",
    "min_max_z['passes_origin'] = min_max_z.apply(lambda p: (p.zamin < 0) and (p.zamax > 0), axis=1)\n",
    "\n",
    "print('Percentage of tracks that go through the Z-origin:',round((min_max_z.loc[min_max_z['passes_origin']].shape[0]/full_merge.shape[0])*100, 2),'%')\n",
    "\n",
    "hits['z_dir'] = np.sign(hits['z'])"
   ]
  },
  {
   "cell_type": "markdown",
   "metadata": {},
   "source": [
    "### Add cosine distances features for ZR (cylindrical)\n",
    "\n",
    "[Cosine distance](https://en.wikipedia.org/wiki/Cosine_similarity) measures the angle between two points on a plane. On the ZR plane tracks are straight lines and therefore the hits are aligned, which gives us the intuition to make use of a angle-based distance or similarity measure. To explore the use of cosine distance we introduce features that represent the cosine distance between ever hit and:\n",
    "\n",
    "* the bottom left corner of the detector in the ZR plane (3000, 0)\n",
    "* the bottom right corner of the detecor in the ZR plane (-3000, 0)\n"
   ]
  },
  {
   "cell_type": "code",
   "execution_count": 21,
   "metadata": {},
   "outputs": [],
   "source": [
    "rc = np.asarray([3000,0]).reshape(1,-1)    # right bottom corner\n",
    "lc = np.asarray([-3000,0]).reshape(1,-1)   # left bottom corner\n",
    "\n",
    "rc_dists = []\n",
    "lc_dists = []\n",
    "for index, hit in hits.iterrows():\n",
    "    zr = np.asarray([hit['z'], hit['r_cyl']]).reshape(1,-1)\n",
    "    rc_dists.append(1 - cosine_similarity(rc, zr).ravel())\n",
    "    lc_dists.append(1 - cosine_similarity(lc, zr).ravel())\n",
    "\n",
    "hits['cos_dist_rc'] = np.vstack(rc_dists)\n",
    "hits['cos_dist_lc'] = np.vstack(lc_dists)"
   ]
  },
  {
   "cell_type": "markdown",
   "metadata": {},
   "source": [
    "#### Display all new detector layout features"
   ]
  },
  {
   "cell_type": "code",
   "execution_count": 22,
   "metadata": {},
   "outputs": [
    {
     "data": {
      "text/html": [
       "<div>\n",
       "<style scoped>\n",
       "    .dataframe tbody tr th:only-of-type {\n",
       "        vertical-align: middle;\n",
       "    }\n",
       "\n",
       "    .dataframe tbody tr th {\n",
       "        vertical-align: top;\n",
       "    }\n",
       "\n",
       "    .dataframe thead th {\n",
       "        text-align: right;\n",
       "    }\n",
       "</style>\n",
       "<table border=\"1\" class=\"dataframe\">\n",
       "  <thead>\n",
       "    <tr style=\"text-align: right;\">\n",
       "      <th></th>\n",
       "      <th>hit_id</th>\n",
       "      <th>vol_inner</th>\n",
       "      <th>vol_short</th>\n",
       "      <th>vol_long</th>\n",
       "      <th>vol_lay_mul</th>\n",
       "      <th>vol_lay_add</th>\n",
       "      <th>vol_lay_concat</th>\n",
       "      <th>z_dir</th>\n",
       "      <th>cos_dist_rc</th>\n",
       "      <th>cos_dist_lc</th>\n",
       "    </tr>\n",
       "  </thead>\n",
       "  <tbody>\n",
       "    <tr>\n",
       "      <th>0</th>\n",
       "      <td>1</td>\n",
       "      <td>1</td>\n",
       "      <td>0</td>\n",
       "      <td>0</td>\n",
       "      <td>14</td>\n",
       "      <td>9</td>\n",
       "      <td>72</td>\n",
       "      <td>-1.0</td>\n",
       "      <td>1.999071</td>\n",
       "      <td>0.000929</td>\n",
       "    </tr>\n",
       "  </tbody>\n",
       "</table>\n",
       "</div>"
      ],
      "text/plain": [
       "   hit_id  vol_inner  vol_short  vol_long  vol_lay_mul  vol_lay_add  \\\n",
       "0       1          1          0         0           14            9   \n",
       "\n",
       "   vol_lay_concat  z_dir  cos_dist_rc  cos_dist_lc  \n",
       "0              72   -1.0     1.999071     0.000929  "
      ]
     },
     "execution_count": 22,
     "metadata": {},
     "output_type": "execute_result"
    }
   ],
   "source": [
    "hits[['hit_id','vol_inner','vol_short','vol_long','vol_lay_mul','vol_lay_add','vol_lay_concat',\n",
    "      'z_dir','cos_dist_rc','cos_dist_lc']].head(1)"
   ]
  },
  {
   "cell_type": "markdown",
   "metadata": {},
   "source": [
    "#### Pickle dataframe"
   ]
  },
  {
   "cell_type": "code",
   "execution_count": 23,
   "metadata": {},
   "outputs": [
    {
     "data": {
      "text/plain": [
       "(120939, 46)"
      ]
     },
     "execution_count": 23,
     "metadata": {},
     "output_type": "execute_result"
    }
   ],
   "source": [
    "hits.shape"
   ]
  },
  {
   "cell_type": "code",
   "execution_count": 24,
   "metadata": {},
   "outputs": [
    {
     "name": "stdout",
     "output_type": "stream",
     "text": [
      "done.\n"
     ]
    }
   ],
   "source": [
    "hits.to_pickle('/home/alepfu/Desktop/dataset/pickle/' + event_id + '_FE.pkl')\n",
    "print('done.')"
   ]
  }
 ],
 "metadata": {
  "kernelspec": {
   "display_name": "Python 3",
   "language": "python",
   "name": "python3"
  },
  "language_info": {
   "codemirror_mode": {
    "name": "ipython",
    "version": 3
   },
   "file_extension": ".py",
   "mimetype": "text/x-python",
   "name": "python",
   "nbconvert_exporter": "python",
   "pygments_lexer": "ipython3",
   "version": "3.6.4"
  }
 },
 "nbformat": 4,
 "nbformat_minor": 2
}
